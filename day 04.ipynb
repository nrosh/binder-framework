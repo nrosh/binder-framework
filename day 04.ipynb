{
 "cells": [
  {
   "cell_type": "code",
   "execution_count": 1,
   "metadata": {},
   "outputs": [],
   "source": [
    "import pandas as pd"
   ]
  },
  {
   "cell_type": "code",
   "execution_count": 7,
   "metadata": {},
   "outputs": [],
   "source": [
    "# data = pd.read_excel('Value_of_ECSP_Data_Dictionary.xlsx')\n",
    "data = pd.read_csv('Value_of_Energy_Cost_Savings_Program_Savings_for_Businesses_-_FY2020.csv')"
   ]
  },
  {
   "cell_type": "code",
   "execution_count": 33,
   "metadata": {},
   "outputs": [
    {
     "data": {
      "text/plain": [
       "Index(['Company Name', 'company contact', 'company email', 'company phone',\n",
       "       'Address', 'City', 'State', 'Postcode', 'Industry', 'Industry descr',\n",
       "       'Company Type', 'Current fulltime', 'Job created', 'Job retain',\n",
       "       'Effective Date', 'Total Savings',\n",
       "       'Savings from beginning receiving benefits', 'Borough', 'Latitude',\n",
       "       'Longitude', 'Community Board', 'Council District', 'Census Tract',\n",
       "       'BIN', 'BBL', 'NTA'],\n",
       "      dtype='object')"
      ]
     },
     "execution_count": 33,
     "metadata": {},
     "output_type": "execute_result"
    }
   ],
   "source": [
    "# data.head()\n",
    "# data.info()\n",
    "data.columns"
   ]
  },
  {
   "cell_type": "code",
   "execution_count": 81,
   "metadata": {},
   "outputs": [
    {
     "name": "stdout",
     "output_type": "stream",
     "text": [
      "Number of companies: 439\n",
      "Total number of jobs created: 149.0\n",
      "Number of unique domain names:  356\n"
     ]
    }
   ],
   "source": [
    "# 1. How many different companies are represented in the data set?\n",
    "factory_cnt = data['Company Name'].nunique()\n",
    "print(\"Number of companies:\", factory_cnt)\n",
    "\n",
    "\n",
    "# 2. What is the total number of jobs created for businesses in Queens?\n",
    "jobs = data['Job created'].dropna()\n",
    "print(\"Total number of jobs created:\", sum(jobs))\n",
    "\n",
    "# 3. How many different unique email domains names are there in the data set?\n",
    "email = data['company email'].dropna()\n",
    "domain = email.str.extract(r'@(.+)$')\n",
    "print(\"Number of unique domain names: \", domain[0].nunique())\n",
    "\n",
    "# 4. Considering only NTAs with at least 5 listed businesses, what is the average total savings and the total jobs created for each NTA?\n",
    "nta = data['NTA'].value_counts().reset_index()\n",
    "nta.columns = ['NTA', 'count']\n",
    "nta = nta[nta['count']>=5] \n",
    "merged_df = pd.merge(data[['Total Savings', 'Job created', 'NTA']], nta, on='NTA', how='inner')\n",
    "avg_total_savings = merged_df.groupby('NTA')['Total Savings'].mean().reset_index()\n",
    "total_jobs_created = merged_df.groupby('NTA')['Job created'].sum().reset_index()\n",
    "result = pd.merge(avg_total_savings, total_jobs_created, on='NTA')\n",
    "result\n",
    "\n",
    "# 5. Save your result for the previous question as a CSV file.\n",
    "# result.to_csv('output.csv', index=False)"
   ]
  }
 ],
 "metadata": {
  "kernelspec": {
   "display_name": "base",
   "language": "python",
   "name": "python3"
  },
  "language_info": {
   "codemirror_mode": {
    "name": "ipython",
    "version": 3
   },
   "file_extension": ".py",
   "mimetype": "text/x-python",
   "name": "python",
   "nbconvert_exporter": "python",
   "pygments_lexer": "ipython3",
   "version": "3.9.13"
  },
  "orig_nbformat": 4
 },
 "nbformat": 4,
 "nbformat_minor": 2
}
